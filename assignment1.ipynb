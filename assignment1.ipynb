{
 "cells": [
  {
   "cell_type": "code",
   "execution_count": 1,
   "id": "8c484f9f",
   "metadata": {},
   "outputs": [],
   "source": [
    "import pandas as pd\n",
    "from sklearn.preprocessing import MinMaxScaler \n",
    "from sklearn.linear_model import LogisticRegression\n",
    "from sklearn.metrics import accuracy_score\n",
    "import matplotlib.pyplot as plt\n",
    "import numpy as np"
   ]
  },
  {
   "cell_type": "code",
   "execution_count": 2,
   "id": "20f4b405",
   "metadata": {},
   "outputs": [
    {
     "name": "stdout",
     "output_type": "stream",
     "text": [
      "Training set columns:\n",
      "  class  b1  b2  b3   b4  b5   b6   b7  b8  b9  ...  pred_minus_obs_H_b9  \\\n",
      "0     d  67  51  68  115  69  111  136  31  67  ...                -9.17   \n",
      "1     s  67  28  51   99  50   97   82  26  59  ...                -2.25   \n",
      "2     s  63  26  50   95  49   91   81  26  57  ...                -0.44   \n",
      "3     d  63  42  63   97  66  108  111  28  59  ...                -2.34   \n",
      "4     s  46  27  50   83  51   90   76  26  56  ...                 1.25   \n",
      "\n",
      "   pred_minus_obs_S_b1  pred_minus_obs_S_b2  pred_minus_obs_S_b3  \\\n",
      "0               -18.27                -1.80                -6.32   \n",
      "1               -20.13                -2.11                -6.35   \n",
      "2               -17.64                -1.81                -4.70   \n",
      "3               -20.20                -1.89                -5.47   \n",
      "4               -18.62                -2.17                -7.11   \n",
      "\n",
      "   pred_minus_obs_S_b4  pred_minus_obs_S_b5  pred_minus_obs_S_b6  \\\n",
      "0               -20.88                -1.63                -6.13   \n",
      "1               -21.94                -1.22                -6.13   \n",
      "2               -19.39                -0.65                -5.01   \n",
      "3               -21.65                -0.99                -5.71   \n",
      "4               -21.12                -1.56                -6.35   \n",
      "\n",
      "   pred_minus_obs_S_b7  pred_minus_obs_S_b8  pred_minus_obs_S_b9  \n",
      "0               -22.56                -5.53                -8.11  \n",
      "1               -22.20                -3.41                -6.57  \n",
      "2               -20.89                -3.96                -6.85  \n",
      "3               -22.19                -3.41                -6.52  \n",
      "4               -22.19                -4.45                -7.32  \n",
      "\n",
      "[5 rows x 28 columns]\n",
      "Testing set columns:\n",
      "  class  b1  b2  b3   b4  b5   b6   b7  b8  b9  ...  pred_minus_obs_H_b9  \\\n",
      "0     d  39  36  57   91  59  101   93  27  60  ...                -2.36   \n",
      "1     h  84  30  57  112  51   98   92  26  62  ...                -2.26   \n",
      "2     s  53  25  49   99  51   93   84  26  58  ...                -1.46   \n",
      "3     s  59  26  49  103  47   92   82  25  56  ...                 2.68   \n",
      "4     d  57  49  66  103  64  106  114  28  59  ...                -2.94   \n",
      "\n",
      "   pred_minus_obs_S_b1  pred_minus_obs_S_b2  pred_minus_obs_S_b3  \\\n",
      "0               -18.41                -1.88                -6.43   \n",
      "1               -16.27                -1.95                -6.25   \n",
      "2               -15.92                -1.79                -4.64   \n",
      "3               -13.77                -2.53                -6.34   \n",
      "4               -21.74                -1.64                -4.62   \n",
      "\n",
      "   pred_minus_obs_S_b4  pred_minus_obs_S_b5  pred_minus_obs_S_b6  \\\n",
      "0               -21.03                -1.60                -6.18   \n",
      "1               -18.79                -1.99                -6.18   \n",
      "2               -17.73                -0.48                -4.69   \n",
      "3               -22.03                -2.34                -6.60   \n",
      "4               -23.74                -0.85                -5.50   \n",
      "\n",
      "   pred_minus_obs_S_b7  pred_minus_obs_S_b8  pred_minus_obs_S_b9  \n",
      "0               -22.50                -5.20                -7.86  \n",
      "1               -23.41                -8.87               -10.83  \n",
      "2               -19.97                -4.10                -7.07  \n",
      "3               -27.10                -7.99               -10.81  \n",
      "4               -22.83                -2.74                -5.84  \n",
      "\n",
      "[5 rows x 28 columns]\n"
     ]
    }
   ],
   "source": [
    "train_data = pd.read_csv('training.csv')\n",
    "test_data = pd.read_csv('testing.csv')\n",
    "\n",
    "print(\"Training set columns:\")\n",
    "print(train_data.head())\n",
    "\n",
    "print(\"Testing set columns:\")\n",
    "print(test_data.head())"
   ]
  },
  {
   "cell_type": "code",
   "execution_count": 3,
   "id": "e763aae1",
   "metadata": {},
   "outputs": [],
   "source": [
    "columns = train_data.columns\n",
    "\n",
    "# 删除以 \"pred minus obs\" 开头的列\n",
    "columns_to_drop = [col for col in columns if col.startswith('pred minus obs')]\n",
    "train_data.drop(columns_to_drop, axis=1, inplace=True)\n",
    "test_data.drop(columns_to_drop, axis=1, inplace=True)\n",
    "\n",
    "columns_to_keep = ['class'] + ['b{}'.format(i) for i in range(1, 10)]\n",
    "train_data = train_data[columns_to_keep]\n",
    "test_data = test_data[columns_to_keep]"
   ]
  },
  {
   "cell_type": "code",
   "execution_count": 4,
   "id": "7186d92e",
   "metadata": {},
   "outputs": [
    {
     "name": "stdout",
     "output_type": "stream",
     "text": [
      "Class counts:\n",
      "s    136\n",
      "d    105\n",
      "o     46\n",
      "h     38\n",
      "Name: class, dtype: int64\n"
     ]
    }
   ],
   "source": [
    "class_counts = train_data['class'].value_counts()\n",
    "\n",
    "print(\"Class counts:\")\n",
    "print(class_counts)"
   ]
  },
  {
   "cell_type": "code",
   "execution_count": 5,
   "id": "da95bd76",
   "metadata": {},
   "outputs": [],
   "source": [
    "label_train = train_data.iloc[:, 0]\n",
    "label_test = test_data.iloc[:, 0]\n",
    "\n",
    "data_train = train_data.iloc[:, 1:].values\n",
    "data_test = test_data.iloc[:, 1:].values\n",
    "\n",
    "scaler = MinMaxScaler()\n",
    "data_train_scaled = scaler.fit_transform(data_train)\n",
    "data_test_scaled = scaler.fit_transform(data_test)\n",
    "\n",
    "data_scaled = pd.DataFrame(data=data_train_scaled, columns=train_data.columns[1:])\n",
    "train_data = pd.concat([pd.DataFrame(data=label_train, columns=['class']), data_scaled], axis=1)\n",
    "\n",
    "data_scaled = pd.DataFrame(data=data_test_scaled, columns=test_data.columns[1:])\n",
    "test_data = pd.concat([pd.DataFrame(data=label_test, columns=['class']), data_scaled], axis=1)"
   ]
  },
  {
   "cell_type": "code",
   "execution_count": 6,
   "id": "efc05478",
   "metadata": {},
   "outputs": [],
   "source": [
    "train_data = train_data[train_data['class'].isin(['s', 'd'])]\n",
    "test_data = test_data[test_data['class'].isin(['s', 'd'])]"
   ]
  },
  {
   "cell_type": "code",
   "execution_count": 7,
   "id": "45d77c00",
   "metadata": {},
   "outputs": [
    {
     "name": "stdout",
     "output_type": "stream",
     "text": [
      "Class counts:\n",
      "s    136\n",
      "d    105\n",
      "Name: class, dtype: int64\n"
     ]
    }
   ],
   "source": [
    "class_counts = train_data['class'].value_counts()\n",
    "\n",
    "print(\"Class counts:\")\n",
    "print(class_counts)"
   ]
  },
  {
   "cell_type": "code",
   "execution_count": 8,
   "id": "9ebecfd3",
   "metadata": {},
   "outputs": [],
   "source": [
    "y_train = train_data.iloc[:, 0].values\n",
    "X_train = train_data.iloc[:, 1:].values\n",
    "y_test = test_data.iloc[:, 0].values\n",
    "X_test = test_data.iloc[:, 1:].values"
   ]
  },
  {
   "cell_type": "code",
   "execution_count": 9,
   "id": "8bca4cfc",
   "metadata": {},
   "outputs": [
    {
     "name": "stdout",
     "output_type": "stream",
     "text": [
      "Accuracy: 0.9292035398230089\n"
     ]
    }
   ],
   "source": [
    "clf = LogisticRegression(random_state=0)\n",
    "\n",
    "clf.fit(X_train, y_train)\n",
    "y_pred = clf.predict(X_test)\n",
    "accuracy = accuracy_score(y_test, y_pred)\n",
    "print(\"Accuracy:\", accuracy)"
   ]
  },
  {
   "cell_type": "code",
   "execution_count": 12,
   "id": "b9c010ca",
   "metadata": {},
   "outputs": [
    {
     "name": "stdout",
     "output_type": "stream",
     "text": [
      "    class        b1        b2        b3        b4        b5        b6  \\\n",
      "161     d  0.169014  0.162963  0.167785  0.228814  0.240741  0.192308   \n",
      "76      d  0.323944  0.214815  0.154362  0.211864  0.555556  0.326923   \n",
      "107     d  0.098592  0.111111  0.114094  0.262712  0.240741  0.230769   \n",
      "146     d  0.281690  0.185185  0.147651  0.398305  0.370370  0.442308   \n",
      "127     s  0.436620  0.022222  0.026846  0.381356  0.092593  0.076923   \n",
      "181     s  0.436620  0.022222  0.033557  0.330508  0.092593  0.115385   \n",
      "175     s  0.239437  0.051852  0.053691  0.194915  0.018519  0.019231   \n",
      "110     d  0.309859  0.177778  0.147651  0.500000  0.351852  0.519231   \n",
      "52      s  0.408451  0.022222  0.033557  0.372881  0.111111  0.153846   \n",
      "60      d  0.267606  0.111111  0.093960  0.322034  0.296296  0.288462   \n",
      "\n",
      "           b7        b8        b9  \n",
      "161  0.400000  0.081967  0.050847  \n",
      "76   0.470588  0.081967  0.101695  \n",
      "107  0.258824  0.032787  0.016949  \n",
      "146  0.588235  0.081967  0.084746  \n",
      "127  0.282353  0.049180  0.067797  \n",
      "181  0.235294  0.049180  0.101695  \n",
      "175  0.164706  0.049180  0.033898  \n",
      "110  0.647059  0.081967  0.135593  \n",
      "52   0.341176  0.081967  0.135593  \n",
      "60   0.552941  0.065574  0.101695  \n"
     ]
    }
   ],
   "source": [
    "samples = test_data.sample(n=10, random_state=1)\n",
    "\n",
    "print(samples)"
   ]
  },
  {
   "cell_type": "code",
   "execution_count": 13,
   "id": "d6bd6706",
   "metadata": {},
   "outputs": [
    {
     "name": "stderr",
     "output_type": "stream",
     "text": [
      "E:\\miniconda3\\envs\\cits5508-2023\\lib\\site-packages\\sklearn\\base.py:413: UserWarning: X has feature names, but LogisticRegression was fitted without feature names\n",
      "  warnings.warn(\n"
     ]
    }
   ],
   "source": [
    "# 将选择的样本特征提取出来\n",
    "X_samples = samples.iloc[:, 1:]\n",
    "\n",
    "# 对选择的样本进行预测并获取预测概率\n",
    "y_proba = clf.predict_proba(X_samples)"
   ]
  },
  {
   "cell_type": "code",
   "execution_count": 16,
   "id": "12e28d9c",
   "metadata": {},
   "outputs": [
    {
     "data": {
      "image/png": "[encoded data removed]",
      "text/plain": [
       "<Figure size 640x480 with 1 Axes>"
      ]
     },
     "metadata": {},
     "output_type": "display_data"
    }
   ],
   "source": [
    "import matplotlib.pyplot as plt\n",
    "import numpy as np\n",
    "\n",
    "# 将预测概率和样本特征绘制成图表\n",
    "fig, ax = plt.subplots()\n",
    "\n",
    "# 绘制样本的散点图\n",
    "ax.scatter(samples.iloc[:, 1], samples.iloc[:, 2], c=y_proba[:, 1], cmap='bwr', s=100)\n",
    "ax.set_xlabel('b1')\n",
    "ax.set_ylabel('b2')\n",
    "\n",
    "# 绘制决策边界\n",
    "coef = clf.coef_[0]\n",
    "intercept = clf.intercept_[0]\n",
    "x = np.linspace(-3, 3, 50)\n",
    "y = (-coef[0]*x - intercept) / coef[1]\n",
    "ax.plot(x, y)\n",
    "\n",
    "plt.show()"
   ]
  },
  {
   "cell_type": "code",
   "execution_count": null,
   "id": "e202bae9",
   "metadata": {},
   "outputs": [],
   "source": []
  }
 ],
 "metadata": {
  "kernelspec": {
   "display_name": "Python 3 (ipykernel)",
   "language": "python",
   "name": "python3"
  },
  "language_info": {
   "codemirror_mode": {
    "name": "ipython",
    "version": 3
   },
   "file_extension": ".py",
   "mimetype": "text/x-python",
   "name": "python",
   "nbconvert_exporter": "python",
   "pygments_lexer": "ipython3",
   "version": "3.10.9"
  }
 },
 "nbformat": 4,
 "nbformat_minor": 5
}
